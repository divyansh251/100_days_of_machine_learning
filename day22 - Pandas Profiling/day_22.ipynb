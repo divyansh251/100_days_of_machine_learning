{
 "cells": [
  {
   "cell_type": "code",
   "execution_count": 1,
   "id": "9ffa0e1e-efa6-4317-97cd-c679b4cd9b35",
   "metadata": {},
   "outputs": [],
   "source": [
    "import pandas as pd"
   ]
  },
  {
   "cell_type": "code",
   "execution_count": 2,
   "id": "c1515d41-4a17-45af-b96c-63a8bd881954",
   "metadata": {},
   "outputs": [],
   "source": [
    "df = pd.read_csv('../datasets/train.csv')"
   ]
  },
  {
   "cell_type": "code",
   "execution_count": 3,
   "id": "d0c12732-a5a7-44a3-940f-3ffd25981951",
   "metadata": {},
   "outputs": [
    {
     "data": {
      "text/html": [
       "<div>\n",
       "<style scoped>\n",
       "    .dataframe tbody tr th:only-of-type {\n",
       "        vertical-align: middle;\n",
       "    }\n",
       "\n",
       "    .dataframe tbody tr th {\n",
       "        vertical-align: top;\n",
       "    }\n",
       "\n",
       "    .dataframe thead th {\n",
       "        text-align: right;\n",
       "    }\n",
       "</style>\n",
       "<table border=\"1\" class=\"dataframe\">\n",
       "  <thead>\n",
       "    <tr style=\"text-align: right;\">\n",
       "      <th></th>\n",
       "      <th>PassengerId</th>\n",
       "      <th>Survived</th>\n",
       "      <th>Pclass</th>\n",
       "      <th>Name</th>\n",
       "      <th>Sex</th>\n",
       "      <th>Age</th>\n",
       "      <th>SibSp</th>\n",
       "      <th>Parch</th>\n",
       "      <th>Ticket</th>\n",
       "      <th>Fare</th>\n",
       "      <th>Cabin</th>\n",
       "      <th>Embarked</th>\n",
       "    </tr>\n",
       "  </thead>\n",
       "  <tbody>\n",
       "    <tr>\n",
       "      <th>0</th>\n",
       "      <td>1</td>\n",
       "      <td>0</td>\n",
       "      <td>3</td>\n",
       "      <td>Braund, Mr. Owen Harris</td>\n",
       "      <td>male</td>\n",
       "      <td>22.0</td>\n",
       "      <td>1</td>\n",
       "      <td>0</td>\n",
       "      <td>A/5 21171</td>\n",
       "      <td>7.2500</td>\n",
       "      <td>NaN</td>\n",
       "      <td>S</td>\n",
       "    </tr>\n",
       "    <tr>\n",
       "      <th>1</th>\n",
       "      <td>2</td>\n",
       "      <td>1</td>\n",
       "      <td>1</td>\n",
       "      <td>Cumings, Mrs. John Bradley (Florence Briggs Th...</td>\n",
       "      <td>female</td>\n",
       "      <td>38.0</td>\n",
       "      <td>1</td>\n",
       "      <td>0</td>\n",
       "      <td>PC 17599</td>\n",
       "      <td>71.2833</td>\n",
       "      <td>C85</td>\n",
       "      <td>C</td>\n",
       "    </tr>\n",
       "    <tr>\n",
       "      <th>2</th>\n",
       "      <td>3</td>\n",
       "      <td>1</td>\n",
       "      <td>3</td>\n",
       "      <td>Heikkinen, Miss. Laina</td>\n",
       "      <td>female</td>\n",
       "      <td>26.0</td>\n",
       "      <td>0</td>\n",
       "      <td>0</td>\n",
       "      <td>STON/O2. 3101282</td>\n",
       "      <td>7.9250</td>\n",
       "      <td>NaN</td>\n",
       "      <td>S</td>\n",
       "    </tr>\n",
       "    <tr>\n",
       "      <th>3</th>\n",
       "      <td>4</td>\n",
       "      <td>1</td>\n",
       "      <td>1</td>\n",
       "      <td>Futrelle, Mrs. Jacques Heath (Lily May Peel)</td>\n",
       "      <td>female</td>\n",
       "      <td>35.0</td>\n",
       "      <td>1</td>\n",
       "      <td>0</td>\n",
       "      <td>113803</td>\n",
       "      <td>53.1000</td>\n",
       "      <td>C123</td>\n",
       "      <td>S</td>\n",
       "    </tr>\n",
       "    <tr>\n",
       "      <th>4</th>\n",
       "      <td>5</td>\n",
       "      <td>0</td>\n",
       "      <td>3</td>\n",
       "      <td>Allen, Mr. William Henry</td>\n",
       "      <td>male</td>\n",
       "      <td>35.0</td>\n",
       "      <td>0</td>\n",
       "      <td>0</td>\n",
       "      <td>373450</td>\n",
       "      <td>8.0500</td>\n",
       "      <td>NaN</td>\n",
       "      <td>S</td>\n",
       "    </tr>\n",
       "  </tbody>\n",
       "</table>\n",
       "</div>"
      ],
      "text/plain": [
       "   PassengerId  Survived  Pclass  \\\n",
       "0            1         0       3   \n",
       "1            2         1       1   \n",
       "2            3         1       3   \n",
       "3            4         1       1   \n",
       "4            5         0       3   \n",
       "\n",
       "                                                Name     Sex   Age  SibSp  \\\n",
       "0                            Braund, Mr. Owen Harris    male  22.0      1   \n",
       "1  Cumings, Mrs. John Bradley (Florence Briggs Th...  female  38.0      1   \n",
       "2                             Heikkinen, Miss. Laina  female  26.0      0   \n",
       "3       Futrelle, Mrs. Jacques Heath (Lily May Peel)  female  35.0      1   \n",
       "4                           Allen, Mr. William Henry    male  35.0      0   \n",
       "\n",
       "   Parch            Ticket     Fare Cabin Embarked  \n",
       "0      0         A/5 21171   7.2500   NaN        S  \n",
       "1      0          PC 17599  71.2833   C85        C  \n",
       "2      0  STON/O2. 3101282   7.9250   NaN        S  \n",
       "3      0            113803  53.1000  C123        S  \n",
       "4      0            373450   8.0500   NaN        S  "
      ]
     },
     "execution_count": 3,
     "metadata": {},
     "output_type": "execute_result"
    }
   ],
   "source": [
    "df.head()"
   ]
  },
  {
   "cell_type": "code",
   "execution_count": 15,
   "id": "09433c9d-f75c-412f-81df-ec4345481304",
   "metadata": {},
   "outputs": [
    {
     "name": "stdout",
     "output_type": "stream",
     "text": [
      "Requirement already satisfied: ydata-profiling in /home/divyansh/Downloads/ML-GITHUB/mlenv/lib/python3.10/site-packages (4.16.1)\n",
      "Requirement already satisfied: seaborn<0.14,>=0.10.1 in /home/divyansh/Downloads/ML-GITHUB/mlenv/lib/python3.10/site-packages (from ydata-profiling) (0.13.2)\n",
      "Requirement already satisfied: tqdm<5,>=4.48.2 in /home/divyansh/Downloads/ML-GITHUB/mlenv/lib/python3.10/site-packages (from ydata-profiling) (4.67.1)\n",
      "Requirement already satisfied: scipy<1.16,>=1.4.1 in /home/divyansh/Downloads/ML-GITHUB/mlenv/lib/python3.10/site-packages (from ydata-profiling) (1.15.3)\n",
      "Requirement already satisfied: visions[type_image_path]<0.8.2,>=0.7.5 in /home/divyansh/Downloads/ML-GITHUB/mlenv/lib/python3.10/site-packages (from ydata-profiling) (0.8.1)\n",
      "Requirement already satisfied: pydantic>=2 in /home/divyansh/Downloads/ML-GITHUB/mlenv/lib/python3.10/site-packages (from ydata-profiling) (2.11.7)\n",
      "Requirement already satisfied: requests<3,>=2.24.0 in /home/divyansh/Downloads/ML-GITHUB/mlenv/lib/python3.10/site-packages (from ydata-profiling) (2.32.4)\n",
      "Requirement already satisfied: multimethod<2,>=1.4 in /home/divyansh/Downloads/ML-GITHUB/mlenv/lib/python3.10/site-packages (from ydata-profiling) (1.12)\n",
      "Requirement already satisfied: pandas!=1.4.0,<3.0,>1.1 in /home/divyansh/Downloads/ML-GITHUB/mlenv/lib/python3.10/site-packages (from ydata-profiling) (2.3.1)\n",
      "Requirement already satisfied: htmlmin==0.1.12 in /home/divyansh/Downloads/ML-GITHUB/mlenv/lib/python3.10/site-packages (from ydata-profiling) (0.1.12)\n",
      "Requirement already satisfied: jinja2<3.2,>=2.11.1 in /home/divyansh/Downloads/ML-GITHUB/mlenv/lib/python3.10/site-packages (from ydata-profiling) (3.1.6)\n",
      "Requirement already satisfied: numba<=0.61,>=0.56.0 in /home/divyansh/Downloads/ML-GITHUB/mlenv/lib/python3.10/site-packages (from ydata-profiling) (0.61.0)\n",
      "Requirement already satisfied: PyYAML<6.1,>=5.0.0 in /home/divyansh/Downloads/ML-GITHUB/mlenv/lib/python3.10/site-packages (from ydata-profiling) (6.0.2)\n",
      "Requirement already satisfied: phik<0.13,>=0.11.1 in /home/divyansh/Downloads/ML-GITHUB/mlenv/lib/python3.10/site-packages (from ydata-profiling) (0.12.5)\n",
      "Requirement already satisfied: typeguard<5,>=3 in /home/divyansh/Downloads/ML-GITHUB/mlenv/lib/python3.10/site-packages (from ydata-profiling) (4.4.4)\n",
      "Requirement already satisfied: matplotlib<=3.10,>=3.5 in /home/divyansh/Downloads/ML-GITHUB/mlenv/lib/python3.10/site-packages (from ydata-profiling) (3.10.0)\n",
      "Requirement already satisfied: dacite>=1.8 in /home/divyansh/Downloads/ML-GITHUB/mlenv/lib/python3.10/site-packages (from ydata-profiling) (1.9.2)\n",
      "Requirement already satisfied: numpy<2.2,>=1.16.0 in /home/divyansh/Downloads/ML-GITHUB/mlenv/lib/python3.10/site-packages (from ydata-profiling) (2.1.3)\n",
      "Requirement already satisfied: wordcloud>=1.9.3 in /home/divyansh/Downloads/ML-GITHUB/mlenv/lib/python3.10/site-packages (from ydata-profiling) (1.9.4)\n",
      "Requirement already satisfied: imagehash==4.3.1 in /home/divyansh/Downloads/ML-GITHUB/mlenv/lib/python3.10/site-packages (from ydata-profiling) (4.3.1)\n",
      "Requirement already satisfied: statsmodels<1,>=0.13.2 in /home/divyansh/Downloads/ML-GITHUB/mlenv/lib/python3.10/site-packages (from ydata-profiling) (0.14.5)\n",
      "Requirement already satisfied: pillow in /home/divyansh/Downloads/ML-GITHUB/mlenv/lib/python3.10/site-packages (from imagehash==4.3.1->ydata-profiling) (11.3.0)\n",
      "Requirement already satisfied: PyWavelets in /home/divyansh/Downloads/ML-GITHUB/mlenv/lib/python3.10/site-packages (from imagehash==4.3.1->ydata-profiling) (1.8.0)\n",
      "Requirement already satisfied: MarkupSafe>=2.0 in /home/divyansh/Downloads/ML-GITHUB/mlenv/lib/python3.10/site-packages (from jinja2<3.2,>=2.11.1->ydata-profiling) (3.0.2)\n",
      "Requirement already satisfied: fonttools>=4.22.0 in /home/divyansh/Downloads/ML-GITHUB/mlenv/lib/python3.10/site-packages (from matplotlib<=3.10,>=3.5->ydata-profiling) (4.59.0)\n",
      "Requirement already satisfied: cycler>=0.10 in /home/divyansh/Downloads/ML-GITHUB/mlenv/lib/python3.10/site-packages (from matplotlib<=3.10,>=3.5->ydata-profiling) (0.12.1)\n",
      "Requirement already satisfied: python-dateutil>=2.7 in /home/divyansh/Downloads/ML-GITHUB/mlenv/lib/python3.10/site-packages (from matplotlib<=3.10,>=3.5->ydata-profiling) (2.9.0.post0)\n",
      "Requirement already satisfied: packaging>=20.0 in /home/divyansh/Downloads/ML-GITHUB/mlenv/lib/python3.10/site-packages (from matplotlib<=3.10,>=3.5->ydata-profiling) (25.0)\n",
      "Requirement already satisfied: pyparsing>=2.3.1 in /home/divyansh/Downloads/ML-GITHUB/mlenv/lib/python3.10/site-packages (from matplotlib<=3.10,>=3.5->ydata-profiling) (3.2.3)\n",
      "Requirement already satisfied: kiwisolver>=1.3.1 in /home/divyansh/Downloads/ML-GITHUB/mlenv/lib/python3.10/site-packages (from matplotlib<=3.10,>=3.5->ydata-profiling) (1.4.8)\n",
      "Requirement already satisfied: contourpy>=1.0.1 in /home/divyansh/Downloads/ML-GITHUB/mlenv/lib/python3.10/site-packages (from matplotlib<=3.10,>=3.5->ydata-profiling) (1.3.2)\n",
      "Requirement already satisfied: llvmlite<0.45,>=0.44.0dev0 in /home/divyansh/Downloads/ML-GITHUB/mlenv/lib/python3.10/site-packages (from numba<=0.61,>=0.56.0->ydata-profiling) (0.44.0)\n",
      "Requirement already satisfied: tzdata>=2022.7 in /home/divyansh/Downloads/ML-GITHUB/mlenv/lib/python3.10/site-packages (from pandas!=1.4.0,<3.0,>1.1->ydata-profiling) (2025.2)\n",
      "Requirement already satisfied: pytz>=2020.1 in /home/divyansh/Downloads/ML-GITHUB/mlenv/lib/python3.10/site-packages (from pandas!=1.4.0,<3.0,>1.1->ydata-profiling) (2025.2)\n",
      "Requirement already satisfied: joblib>=0.14.1 in /home/divyansh/Downloads/ML-GITHUB/mlenv/lib/python3.10/site-packages (from phik<0.13,>=0.11.1->ydata-profiling) (1.5.1)\n",
      "Requirement already satisfied: annotated-types>=0.6.0 in /home/divyansh/Downloads/ML-GITHUB/mlenv/lib/python3.10/site-packages (from pydantic>=2->ydata-profiling) (0.7.0)\n",
      "Requirement already satisfied: typing-extensions>=4.12.2 in /home/divyansh/Downloads/ML-GITHUB/mlenv/lib/python3.10/site-packages (from pydantic>=2->ydata-profiling) (4.14.1)\n",
      "Requirement already satisfied: pydantic-core==2.33.2 in /home/divyansh/Downloads/ML-GITHUB/mlenv/lib/python3.10/site-packages (from pydantic>=2->ydata-profiling) (2.33.2)\n",
      "Requirement already satisfied: typing-inspection>=0.4.0 in /home/divyansh/Downloads/ML-GITHUB/mlenv/lib/python3.10/site-packages (from pydantic>=2->ydata-profiling) (0.4.1)\n",
      "Requirement already satisfied: charset_normalizer<4,>=2 in /home/divyansh/Downloads/ML-GITHUB/mlenv/lib/python3.10/site-packages (from requests<3,>=2.24.0->ydata-profiling) (3.4.3)\n",
      "Requirement already satisfied: urllib3<3,>=1.21.1 in /home/divyansh/Downloads/ML-GITHUB/mlenv/lib/python3.10/site-packages (from requests<3,>=2.24.0->ydata-profiling) (2.5.0)\n",
      "Requirement already satisfied: certifi>=2017.4.17 in /home/divyansh/Downloads/ML-GITHUB/mlenv/lib/python3.10/site-packages (from requests<3,>=2.24.0->ydata-profiling) (2025.8.3)\n",
      "Requirement already satisfied: idna<4,>=2.5 in /home/divyansh/Downloads/ML-GITHUB/mlenv/lib/python3.10/site-packages (from requests<3,>=2.24.0->ydata-profiling) (3.10)\n",
      "Requirement already satisfied: patsy>=0.5.6 in /home/divyansh/Downloads/ML-GITHUB/mlenv/lib/python3.10/site-packages (from statsmodels<1,>=0.13.2->ydata-profiling) (1.0.1)\n",
      "\u001b[33mWARNING: visions 0.8.1 does not provide the extra 'type_image_path'\u001b[0m\u001b[33m\n",
      "\u001b[0mRequirement already satisfied: networkx>=2.4 in /home/divyansh/Downloads/ML-GITHUB/mlenv/lib/python3.10/site-packages (from visions[type_image_path]<0.8.2,>=0.7.5->ydata-profiling) (3.4.2)\n",
      "Requirement already satisfied: attrs>=19.3.0 in /home/divyansh/Downloads/ML-GITHUB/mlenv/lib/python3.10/site-packages (from visions[type_image_path]<0.8.2,>=0.7.5->ydata-profiling) (25.3.0)\n",
      "Requirement already satisfied: puremagic in /home/divyansh/Downloads/ML-GITHUB/mlenv/lib/python3.10/site-packages (from visions[type_image_path]<0.8.2,>=0.7.5->ydata-profiling) (1.30)\n",
      "Requirement already satisfied: six>=1.5 in /home/divyansh/Downloads/ML-GITHUB/mlenv/lib/python3.10/site-packages (from python-dateutil>=2.7->matplotlib<=3.10,>=3.5->ydata-profiling) (1.17.0)\n"
     ]
    }
   ],
   "source": [
    "!pip3 install ydata-profiling"
   ]
  },
  {
   "cell_type": "code",
   "execution_count": 4,
   "id": "3daf4a52-4ea0-480f-9053-90a0f3627396",
   "metadata": {},
   "outputs": [
    {
     "name": "stderr",
     "output_type": "stream",
     "text": [
      "/home/divyansh/Downloads/ML-GITHUB/mlenv/lib/python3.10/site-packages/tqdm/auto.py:21: TqdmWarning: IProgress not found. Please update jupyter and ipywidgets. See https://ipywidgets.readthedocs.io/en/stable/user_install.html\n",
      "  from .autonotebook import tqdm as notebook_tqdm\n"
     ]
    },
    {
     "data": {
      "text/html": [
       "\n",
       "            <div>\n",
       "                <ins><a href=\"https://ydata.ai/register\">Upgrade to ydata-sdk</a></ins>\n",
       "                <p>\n",
       "                    Improve your data and profiling with ydata-sdk, featuring data quality scoring, redundancy detection, outlier identification, text validation, and synthetic data generation.\n",
       "                </p>\n",
       "            </div>\n",
       "            "
      ],
      "text/plain": [
       "<IPython.core.display.HTML object>"
      ]
     },
     "metadata": {},
     "output_type": "display_data"
    },
    {
     "name": "stderr",
     "output_type": "stream",
     "text": [
      "Summarize dataset:  12%|████████▊                                                                  | 2/17 [00:00<00:00, 33.24it/s, Describe variable: Age]\n",
      "Summarize dataset:  47%|████████████████████████████████▉                                     | 8/17 [00:00<00:00, 48.58it/s, Describe variable: Embarked]\u001b[A\n",
      "100%|█████████████████████████████████████████████████████████████████████████████████████████████████████████████████████| 12/12 [00:00<00:00, 61.30it/s]\u001b[A\n",
      "Summarize dataset: 100%|███████████████████████████████████████████████████████████████████████████████████████| 47/47 [00:02<00:00, 15.83it/s, Completed]\n",
      "Generate report structure: 100%|████████████████████████████████████████████████████████████████████████████████████████████| 1/1 [00:03<00:00,  3.16s/it]\n",
      "Render HTML: 100%|██████████████████████████████████████████████████████████████████████████████████████████████████████████| 1/1 [00:01<00:00,  1.11s/it]\n",
      "Export report to file: 100%|███████████████████████████████████████████████████████████████████████████████████████████████| 1/1 [00:00<00:00, 118.54it/s]\n"
     ]
    }
   ],
   "source": [
    "from ydata_profiling import ProfileReport\n",
    "prof = ProfileReport(df)\n",
    "prof.to_file(output_file='report.html')"
   ]
  },
  {
   "cell_type": "code",
   "execution_count": null,
   "id": "8df6d8da-2bbc-48ad-ad26-f877f70a97fb",
   "metadata": {},
   "outputs": [],
   "source": []
  }
 ],
 "metadata": {
  "kernelspec": {
   "display_name": "Python 3 (ipykernel)",
   "language": "python",
   "name": "python3"
  },
  "language_info": {
   "codemirror_mode": {
    "name": "ipython",
    "version": 3
   },
   "file_extension": ".py",
   "mimetype": "text/x-python",
   "name": "python",
   "nbconvert_exporter": "python",
   "pygments_lexer": "ipython3",
   "version": "3.10.6"
  }
 },
 "nbformat": 4,
 "nbformat_minor": 5
}
